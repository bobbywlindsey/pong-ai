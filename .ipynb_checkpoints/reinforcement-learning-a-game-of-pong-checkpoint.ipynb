{
 "cells": [
  {
   "cell_type": "markdown",
   "metadata": {
    "deletable": true,
    "editable": true
   },
   "source": [
    "# Reinforcement Learning - A Game of Pong"
   ]
  },
  {
   "cell_type": "markdown",
   "metadata": {
    "deletable": true,
    "editable": true
   },
   "source": [
    "First install software (for Mac OS):\n",
    "1. conda update conda\n",
    "2. conda update --all\n",
    "3. ```brew install cmake boost boost-python sdl2 swig wget```\n",
    "4. [Download OpenAI Gym](https://github.com/openai/gym/archive/master.zip)\n",
    "5. ```cd``` into the download repo\n",
    "6. ```MACOSX_DEPLOYMENT_TARGET=10.11 python setup.py install```"
   ]
  },
  {
   "cell_type": "code",
   "execution_count": 1,
   "metadata": {
    "collapsed": false,
    "deletable": true,
    "editable": true
   },
   "outputs": [
    {
     "name": "stderr",
     "output_type": "stream",
     "text": [
      "[2017-05-09 12:12:48,476] Making new env: Pong-v0\n"
     ]
    },
    {
     "name": "stdout",
     "output_type": "stream",
     "text": [
      "The dimensions of the frame are (210, 160, 3).\n",
      "Which if you were to flatten it into a vector would be 100800 pixels.\n",
      "This is what a frame looks like:\n"
     ]
    },
    {
     "data": {
      "image/png": "[encoded data removed]",
      "text/plain": [
       "<matplotlib.figure.Figure at 0x10e4c94a8>"
      ]
     },
     "metadata": {},
     "output_type": "display_data"
    }
   ],
   "source": [
    "import gym\n",
    "import numpy as np\n",
    "import pickle\n",
    "from matplotlib import pyplot as plt\n",
    "\n",
    "def display_frame(frame):\n",
    "    plt.imshow(frame, cmap='Greys', interpolation='nearest')\n",
    "    plt.show()\n",
    "    \n",
    "env = gym.make(\"Pong-v0\")\n",
    "frame = env.reset()\n",
    "print(\"The dimensions of the frame are {0}.\".format(frame.shape))\n",
    "print(\"Which if you were to flatten it into a vector would be {0} pixels.\".format(frame.size))\n",
    "print(\"This is what a frame looks like:\")\n",
    "display_frame(frame)"
   ]
  },
  {
   "cell_type": "markdown",
   "metadata": {
    "deletable": true,
    "editable": true
   },
   "source": [
    "100,800 pixels is a bit much for our purposes. We can reduce the size of each frame by:\n",
    "1. cropping it so that we only focus on pixels between the dark green boundaries\n",
    "2. reduce the image size by half by taking every other pixel\n",
    "3. remove color so that only a greyscale image remains\n",
    "4. remove the background\n",
    "5. set every pixel that's not black to white"
   ]
  },
  {
   "cell_type": "code",
   "execution_count": 2,
   "metadata": {
    "collapsed": false,
    "deletable": true,
    "editable": true
   },
   "outputs": [
    {
     "name": "stdout",
     "output_type": "stream",
     "text": [
      "crop\n"
     ]
    },
    {
     "data": {
      "image/png": "[encoded data removed]",
      "text/plain": [
       "<matplotlib.figure.Figure at 0x118975c50>"
      ]
     },
     "metadata": {},
     "output_type": "display_data"
    },
    {
     "name": "stdout",
     "output_type": "stream",
     "text": [
      "reduce image size\n"
     ]
    },
    {
     "data": {
      "image/png": "[encoded data removed]",
      "text/plain": [
       "<matplotlib.figure.Figure at 0x118a2d358>"
      ]
     },
     "metadata": {},
     "output_type": "display_data"
    },
    {
     "name": "stdout",
     "output_type": "stream",
     "text": [
      "remove color\n"
     ]
    },
    {
     "data": {
      "image/png": "[encoded data removed]",
      "text/plain": [
       "<matplotlib.figure.Figure at 0x118adc780>"
      ]
     },
     "metadata": {},
     "output_type": "display_data"
    },
    {
     "name": "stdout",
     "output_type": "stream",
     "text": [
      "remove background\n"
     ]
    },
    {
     "data": {
      "image/png": "[encoded data removed]",
      "text/plain": [
       "<matplotlib.figure.Figure at 0x118b886a0>"
      ]
     },
     "metadata": {},
     "output_type": "display_data"
    },
    {
     "name": "stdout",
     "output_type": "stream",
     "text": [
      "set everything that's not black to white\n"
     ]
    },
    {
     "data": {
      "image/png": "[encoded data removed]",
      "text/plain": [
       "<matplotlib.figure.Figure at 0x118d2bdd8>"
      ]
     },
     "metadata": {},
     "output_type": "display_data"
    }
   ],
   "source": [
    "# crop\n",
    "print(\"crop\")\n",
    "processed_frame = frame[35:195]\n",
    "display_frame(processed_frame)\n",
    "# reduce image size\n",
    "print(\"reduce image size\")\n",
    "processed_frame = processed_frame[::2, ::2, :]\n",
    "display_frame(processed_frame)\n",
    "# remove color\n",
    "print(\"remove color\")\n",
    "processed_frame = processed_frame[:, :, 0]\n",
    "display_frame(processed_frame)\n",
    "# remove background\n",
    "print(\"remove background\")\n",
    "processed_frame[processed_frame == 144] = 0\n",
    "processed_frame[processed_frame == 109] = 0\n",
    "display_frame(processed_frame)\n",
    "# set everything that's not black to white\n",
    "print(\"set everything that's not black to white\")\n",
    "processed_frame[processed_frame != 0] = 1\n",
    "display_frame(processed_frame)"
   ]
  },
  {
   "cell_type": "markdown",
   "metadata": {
    "deletable": true,
    "editable": true
   },
   "source": [
    "Now the new dimensions and size (i.e. when flattening the matrix into a vector) are:"
   ]
  },
  {
   "cell_type": "code",
   "execution_count": 3,
   "metadata": {
    "collapsed": false,
    "deletable": true,
    "editable": true
   },
   "outputs": [
    {
     "name": "stdout",
     "output_type": "stream",
     "text": [
      "Dimensions: (80, 80)\n",
      "Size: 6400\n"
     ]
    }
   ],
   "source": [
    "print(\"Dimensions: {0}\".format(processed_frame.shape))\n",
    "print(\"Size: {0}\".format(processed_frame.size))"
   ]
  },
  {
   "cell_type": "markdown",
   "metadata": {
    "deletable": true,
    "editable": true
   },
   "source": [
    "This new frame size is much more computationally managable which will make training a neural network a bit easier. Let's make a function for it."
   ]
  },
  {
   "cell_type": "code",
   "execution_count": 4,
   "metadata": {
    "collapsed": false,
    "deletable": true,
    "editable": true
   },
   "outputs": [
    {
     "name": "stdout",
     "output_type": "stream",
     "text": [
      "unprocessed frame\n"
     ]
    },
    {
     "data": {
      "image/png": "[encoded data removed]",
      "text/plain": [
       "<matplotlib.figure.Figure at 0x118dea128>"
      ]
     },
     "metadata": {},
     "output_type": "display_data"
    },
    {
     "name": "stdout",
     "output_type": "stream",
     "text": [
      "processed frame\n"
     ]
    },
    {
     "data": {
      "image/png": "[encoded data removed]",
      "text/plain": [
       "<matplotlib.figure.Figure at 0x118ee5c88>"
      ]
     },
     "metadata": {},
     "output_type": "display_data"
    }
   ],
   "source": [
    "def process_frame(frame, previously_processed_frame):\n",
    "    # crop\n",
    "    processed_frame = frame[35:195]\n",
    "    # reduce image size\n",
    "    processed_frame = processed_frame[::2, ::2, :]\n",
    "    # remove color\n",
    "    processed_frame = processed_frame[:, :, 0]\n",
    "    # remove background\n",
    "    processed_frame[processed_frame == 144] = 0\n",
    "    processed_frame[processed_frame == 109] = 0\n",
    "    # set everything that's not black to white\n",
    "    processed_frame[processed_frame != 0] = 1\n",
    "    # flatten frame\n",
    "    processed_frame = processed_frame.astype(np.float).ravel()\n",
    "\n",
    "    # subtract the previous frame from the current one so we are only processing\n",
    "    # on changes in the game\n",
    "    if previously_processed_frame is not None:\n",
    "        delta_frame = processed_frame - previously_processed_frame\n",
    "    else:\n",
    "        # the below flattens a frame of 0s\n",
    "        delta_frame = np.zeros(processed_frame.size)\n",
    "    # store the previous frame so we can subtract from it next time\n",
    "    previously_processed_frame = processed_frame\n",
    "    return delta_frame, previously_processed_frame\n",
    "\n",
    "print(\"unprocessed frame\")\n",
    "display_frame(frame)\n",
    "previously_processed_frame = None\n",
    "delta_frame, previously_processed_frame = process_frame(frame, previously_processed_frame)\n",
    "print(\"processed frame\")\n",
    "display_frame(previously_processed_frame.reshape((80, 80)))"
   ]
  },
  {
   "cell_type": "markdown",
   "metadata": {
    "deletable": true,
    "editable": true
   },
   "source": [
    "## Set Up Neural Network"
   ]
  },
  {
   "cell_type": "markdown",
   "metadata": {
    "deletable": true,
    "editable": true
   },
   "source": [
    "Now to write a neural network model from scratch.\n",
    "\n",
    "The architecture of the neural network will have an input layer of 6400 inputs (because each frame of the pong game is 80 x 80 pixels), one hidden layer with a total of 200 neurons, and an output layer of one neuron (which will represent the probability of the AI moving the paddle up).\n",
    "\n",
    "We'll also need to set up some other hyperparameters like the number of games to play before we update the neural network, a paramter to control how fast we make changes to the weights of the neural network, and a variable to control the rate of decay when performing backpropagation."
   ]
  },
  {
   "cell_type": "code",
   "execution_count": 5,
   "metadata": {
    "collapsed": true,
    "deletable": true,
    "editable": true
   },
   "outputs": [],
   "source": [
    "num_hidden_layers = 200 # number of hidden layer neurons\n",
    "games_to_play = 10 # number of games to play before neural network update\n",
    "learning_rate = 1e-3 # how fast to make updates to weights\n",
    "backprop_rate = 0.99 # decay factor for RMSProp leaky sum of weight_gradients^2\n",
    "resume = True # resume using weights stored in pickle?\n",
    "render = False"
   ]
  },
  {
   "cell_type": "markdown",
   "metadata": {
    "deletable": true,
    "editable": true
   },
   "source": [
    "**Weights:**\n",
    "\n",
    "We'll want to initialize the weights of our network using the [\"Xavier\"](http://andyljones.tumblr.com/post/110998971763/an-explanation-of-xavier-initialization) method instead of just giving the weights random values from the standard normal distribution for the following reasons:\n",
    "* If the weights in a network start too small, then the signal shrinks as it passes through each layer until it’s too tiny to be useful.\n",
    "* If the weights in a network start too large, then the signal grows as it passes through each layer until it’s too massive to be useful.\n",
    "* Xavier initialization makes sure the weights are \"just right\", keeping the signal in a reasonable range of values through many layers."
   ]
  },
  {
   "cell_type": "code",
   "execution_count": 6,
   "metadata": {
    "collapsed": true,
    "deletable": true,
    "editable": true
   },
   "outputs": [],
   "source": [
    "# weights initialization\n",
    "input_layer_size = 80 * 80 # input dimensionality: 80x80 grid\n",
    "if resume:\n",
    "    weights = pickle.load(open('nn_weights_demo.pkl', 'rb'))\n",
    "else:\n",
    "    weights = {}\n",
    "    weights['W1'] = np.random.randn(num_hidden_layers,input_layer_size) / np.sqrt(input_layer_size) # \"Xavier\" initialization\n",
    "    weights['W2'] = np.random.randn(num_hidden_layers) / np.sqrt(num_hidden_layers)"
   ]
  },
  {
   "cell_type": "markdown",
   "metadata": {
    "deletable": true,
    "editable": true
   },
   "source": [
    "**Forward propagation**:\n",
    "* $w^l_{jk}$: weight from the $k^{\\mathrm{th}}$ neuron in the $(l-1)^\\mathrm{th}$ layer to the $j^{\\mathrm{th}}$ neuron in the $l^{\\mathrm{th}}$ layer\n",
    "> The reason why we use this notation that $k$ is the input neuron and $j$ is the output neuron is to simplify the vectorized formula below for activating neurons and the intuition of saying \"apply the weight matrix to the activations\".\n",
    "* $a^{l}_j = \\sigma\\left( \\sum_k w^{l}_{jk} a^{l-1}_k \\right)$ which vectorized is $a^{l} = \\sigma(w^l a^{l-1})$\n",
    "* activation functions for hidden layers should use Relu instead of sigmoid\n",
    "* output layer activation should use sigmoid to provide a range from [0, 1] for probabilities."
   ]
  },
  {
   "cell_type": "code",
   "execution_count": 7,
   "metadata": {
    "collapsed": true,
    "deletable": true,
    "editable": true
   },
   "outputs": [],
   "source": [
    "def sigmoid(x):\n",
    "    return 1.0 / (1.0 + np.exp(-x)) # sigmoid \"squashing\" function to interval [0,1]\n",
    "\n",
    "def forward(frame):\n",
    "    hidden_layer = np.dot(weights['W1'], frame)\n",
    "    hidden_layer[hidden_layer < 0] = 0 # ReLU nonlinearity\n",
    "    yhat = np.dot(weights['W2'], hidden_layer)\n",
    "    up_probability = sigmoid(yhat)\n",
    "    return hidden_layer, up_probability # return probability of taking action 2, and hidden state"
   ]
  },
  {
   "cell_type": "markdown",
   "metadata": {
    "deletable": true,
    "editable": true
   },
   "source": [
    "**[Backpropagation](http://neuralnetworksanddeeplearning.com/chap2.html):**\n",
    "  \n",
    "We want to minimize cost.\n",
    "* $z^l_j = \\sum_k w^l_{jk} a^{l-1}_k$ which vectorized is $z^{l} = w^l a^{l-1}$.\n",
    "> $z^l_j$ is pretty much $a^{l}_j$ without the activation function.\n",
    "* $\\delta^l_j = \\frac{\\partial C}{\\partial z^l_j}$ the error of neuron $j$ in layer $l$\n",
    "* $\\delta^L = \\nabla_a C \\odot \\sigma'(z^L)$\n",
    "> $\\nabla_a C$ measures how fast the cost function is changing with respect to the output activations while $\\sigma'(z^L)$ measures how fast the activation function is changing at $z^L$. For us, $\\nabla_a C$ is going to be $y - a^L$ and $\\sigma'(z^L)$ is going to be the discounted rewards we'll create (as part of our policy gradient) that will be explained in the next section. In code, we call this ```game_residuals```.\n",
    "\n",
    "![Equations of backpropagation by Michael Nielsen](http://neuralnetworksanddeeplearning.com/images/tikz21.png)"
   ]
  },
  {
   "cell_type": "code",
   "execution_count": 8,
   "metadata": {
    "collapsed": true,
    "deletable": true,
    "editable": true
   },
   "outputs": [],
   "source": [
    "def backward(game_hidden_layer_values, game_residuals):\n",
    "    \"\"\" backward pass. (game_hidden_layer_values is array of intermediate hidden states) \"\"\"\n",
    "    dW2 = np.dot(game_hidden_layer_values.T, game_residuals).ravel()\n",
    "    dh = np.outer(game_residuals, weights['W2'])\n",
    "    dh[game_hidden_layer_values <= 0] = 0 # backpro prelu\n",
    "    dW1 = np.dot(dh.T, game_delta_frames)\n",
    "    return {'W1':dW1, 'W2':dW2}"
   ]
  },
  {
   "cell_type": "markdown",
   "metadata": {
    "deletable": true,
    "editable": true
   },
   "source": [
    "We use RMSprop which is an unpublished, adaptive learning rate proposed by Geoff Hinton (one of the first researchers to demonstrate the use of generalized backpropagation algorithm).\n",
    "\n",
    "**Pitfalls of Stochastic Gradient Descent**  \n",
    "SGD is dependent on the given instance (or the batch of instances) of the present iteration. This results in:\n",
    "* unstable update steps per iteration\n",
    "* slower convergence\n",
    "* optimization more likely to get stuck in a poor local minima\n",
    "\n",
    "SGD is supposed to approximate each step by taking the average of all the mini batches, but there are times when a parameter might get a gradient of 0.0001 for one batch, but then the next batch (possibly an outlier batch) gives a gradient of -0.009. This effectively destroys all the previous gradient information.\n",
    "\n",
    "RMSrop instead keeps a running average of its recent gradient magnitudes and divides the next gradient by this average so that loosely gradient values are normalized (it essentially divides the learning rate by an exponentially decaying average of squared gradients)."
   ]
  },
  {
   "cell_type": "code",
   "execution_count": 9,
   "metadata": {
    "collapsed": true,
    "deletable": true,
    "editable": true
   },
   "outputs": [],
   "source": [
    "gradient_buffer = {key : np.zeros_like(value) for key, value in weights.items()} # update buffers that add up gradients over a batch\n",
    "rmsprop_cache = {key : np.zeros_like(value) for key, value in weights.items()} # rmsprop memory\n",
    "\n",
    "def update_weights():\n",
    "    for key, value in weights.items():\n",
    "        g = gradient_buffer[key] # gradient\n",
    "        rmsprop_cache[key] = backprop_rate * rmsprop_cache[key] + (1 - backprop_rate) * g**2\n",
    "        weights[key] += learning_rate * g / (np.sqrt(rmsprop_cache[key]) + 1e-5)\n",
    "        gradient_buffer[key] = np.zeros_like(value) # reset batch gradient buffer\n",
    "    return None"
   ]
  },
  {
   "cell_type": "markdown",
   "metadata": {
    "deletable": true,
    "editable": true
   },
   "source": [
    "## Supervised Learning vs Reinforced Learning"
   ]
  },
  {
   "cell_type": "markdown",
   "metadata": {},
   "source": [
    "<img src=\"supervised.png\" alt=\"Supervised Learning\" style=\"\">\n",
    "\n",
    "<img src=\"rl.png\" alt=\"Reinforcement Learning\" style=\"\">"
   ]
  },
  {
   "cell_type": "markdown",
   "metadata": {
    "deletable": true,
    "editable": true
   },
   "source": [
    "The biggest difference between a typical supervised learning problem with neural networks and reinforcement learning with a neural network comes down to access to labels. In a supervised problem, you already have labels for each sample so that you can do backprogagation immediately. In a RL problem, you don't have immediate access to a sample's label and must sample an action and assume that action was the right one to take (sampling an action makes this process stochastic); eventually, you'll get a reward and use that to encourage or discourage actions you took through the typical backpropagation method with actions you took right before being rewarded being weighted more heavily than those actions you took further back. This last concept in combination with backpropagation is called a \"policy gradient\"."
   ]
  },
  {
   "cell_type": "markdown",
   "metadata": {
    "deletable": true,
    "editable": true
   },
   "source": [
    "## Policy gradient\n",
    "\n",
    "For the algorithm to learn, you must ask how changing the output probability (i.e. the probability of pressing UP) affects the result of winning the round. We first have to assume that each action we take is the true action we should have taken, until we get a reward from the environment (this is a solution to the credit assignment problem).\n",
    "\n",
    "To calculate the cost of our actions, we can use a binary logistic regression classifier (since we're only trying to predict two things, UP or DOWN).  \n",
    "$P(y = 1 \\mid x; w, b) = \\frac{1}{1 + e^{-(w^Tx +b)}} = \\sigma (w^Tx + b)$  \n",
    "whose maximum likelihood estimator is $C_i = \\sum_j y_{ij} \\log(\\sigma(f_j)) + (1 - y_{ij}) \\log(1 - \\sigma(f_j))$ where $f$ is the function that gives us the activations of the final layer.\n",
    "\n",
    "Now to figure out how the change in our cost is affected by our predictions, we calculate:  \n",
    "$\\partial{C_i} / \\partial{f_j} = y_{ij} - \\sigma(f_j)$ which is nothing more than our residuals (i.e. our assumed true label minus the predicted label).  \n",
    "We can easily put this in code:\n",
    "```python\n",
    "assumed_true_label = 1 if action == 2 else 0\n",
    "residuals = assumed_true_label - up_probability\n",
    "```\n",
    "\n",
    "We later take these residuals and \"discount\" them so that actions taken earlier in the round are less important than those you just took. This is part of our policy gradient and key to the neural net's back-progpagation algorithm."
   ]
  },
  {
   "cell_type": "code",
   "execution_count": 10,
   "metadata": {
    "collapsed": true,
    "deletable": true,
    "editable": true
   },
   "outputs": [],
   "source": [
    "discount_rate = 0.99 # discount factor for reward"
   ]
  },
  {
   "cell_type": "code",
   "execution_count": 11,
   "metadata": {
    "collapsed": true,
    "deletable": true,
    "editable": true
   },
   "outputs": [],
   "source": [
    "def discount_rewards(rewards):\n",
    "    \"\"\" Actions you took 20 steps before the end result are less important to the overall\n",
    "    result than an action you took a step ago. This implements that logic by discounting\n",
    "    the reward on previous actions based on how long ago they were taken \"\"\"\n",
    "    discounted_rewards = np.zeros_like(rewards)\n",
    "    running_add = 0\n",
    "    # earlier frames are discounted a lot more than rewards for later frames\n",
    "    for i in list(reversed(range(0, rewards.size))):\n",
    "        if rewards[i] != 0:\n",
    "            running_add = 0 # reset the sum, since this was a game boundary (pong specific!)\n",
    "        running_add = running_add * discount_rate + rewards[i]\n",
    "        discounted_rewards[i] = running_add\n",
    "    return discounted_rewards"
   ]
  },
  {
   "cell_type": "code",
   "execution_count": 12,
   "metadata": {
    "collapsed": true,
    "deletable": true,
    "editable": true
   },
   "outputs": [],
   "source": [
    "def choose_action(probability):\n",
    "    \"\"\" this is the stochastic part of RL and what makes this policy\n",
    "    neural network different from a supervised learning problem \"\"\"\n",
    "    random_value = np.random.uniform()\n",
    "    if random_value < probability:\n",
    "        # signifies up in openai gym\n",
    "        return 2\n",
    "    else:\n",
    "        # signifies down in openai gym\n",
    "        return 3"
   ]
  },
  {
   "cell_type": "markdown",
   "metadata": {
    "deletable": true,
    "editable": true
   },
   "source": [
    "## Let's Play!"
   ]
  },
  {
   "cell_type": "code",
   "execution_count": null,
   "metadata": {
    "collapsed": false,
    "deletable": true,
    "editable": true
   },
   "outputs": [],
   "source": [
    "env = gym.make(\"Pong-v0\")\n",
    "frame = env.reset()\n",
    "previously_processed_frame = None # used in computing the difference frame\n",
    "delta_frames,hidden_layer_values = [], []\n",
    "residuals, rewards = [], []\n",
    "running_reward = None\n",
    "reward_sum = 0\n",
    "game_number = 0\n",
    "\n",
    "while True:\n",
    "    env.render()\n",
    "\n",
    "    # preprocess the frame, set input to network to be difference image\n",
    "    delta_frame, previously_processed_frame = process_frame(frame, previously_processed_frame)\n",
    "\n",
    "    # forward the policy network and sample an action from the returned probability\n",
    "    hidden_layer, up_probability = forward(delta_frame)\n",
    "    action = choose_action(up_probability)\n",
    "\n",
    "    # record various intermediates (needed later for backprop)\n",
    "    delta_frames.append(delta_frame) #frame\n",
    "    hidden_layer_values.append(hidden_layer) # hidden state\n",
    "\n",
    "    # assume every action taken was the true action and\n",
    "    # calculate gradient\n",
    "    assumed_true_label = 1 if action == 2 else 0 # a \"fake label\"\n",
    "    residuals.append(assumed_true_label - up_probability) # grad that encourages the action that was taken to be taken (see http://cs231n.github.io/neural-networks-2/#losses if confused)\n",
    "\n",
    "    # step the environment and get new measurements\n",
    "    frame, reward, done, info = env.step(action)\n",
    "    reward_sum += reward\n",
    "\n",
    "    rewards.append(reward) # record reward (has to be done after we call step() to get reward for previous action)\n",
    "\n",
    "    if done: # an episode finished\n",
    "        game_number += 1\n",
    "\n",
    "        # stack together all inputs, hidden states, action gradients, and rewards for this episode\n",
    "        game_delta_frames = np.vstack(delta_frames)\n",
    "        game_hidden_layer_values = np.vstack(hidden_layer_values)\n",
    "        game_residuals = np.vstack(residuals)\n",
    "        game_rewards = np.vstack(rewards)\n",
    "\n",
    "        # reset array memory\n",
    "        delta_frames, hidden_layer_values = [], []\n",
    "        residuals, rewards = [],[]\n",
    "\n",
    "        # compute the discounted reward backwards through time\n",
    "        discounted_game_rewards = discount_rewards(game_rewards)\n",
    "        # standardize the rewards to be unit normal (helps control the gradient estimator variance)\n",
    "        discounted_game_rewards -= np.mean(discounted_game_rewards)\n",
    "        discounted_game_rewards /= np.std(discounted_game_rewards)\n",
    "        game_residuals *= discounted_game_rewards # modulate the gradient with advantage (PG magic happens right here.)\n",
    "\n",
    "        weight_gradients = backward(game_hidden_layer_values, game_residuals)\n",
    "        for key in weights: gradient_buffer[key] += weight_gradients[key] # accumulate gradient over batch\n",
    "\n",
    "        # perform rmsprop parameter update every games_to_play episodes\n",
    "        if game_number % games_to_play == 0:\n",
    "            print(\"updating weights\")\n",
    "            update_weights()\n",
    "\n",
    "        # track progress\n",
    "        running_reward = reward_sum if running_reward is None else running_reward * 0.99 + reward_sum * 0.01\n",
    "        print('game_number: {0}'.format(game_number))\n",
    "        print('resetting env. episode reward total was {0}. running mean: {1}'.format(reward_sum, running_reward))\n",
    "        if game_number % 100 == 0: pickle.dump(weights, open('nn_weights_demo.pkl', 'wb'))\n",
    "        reward_sum = 0\n",
    "        frame = env.reset() # reset env\n",
    "        previously_processed_frame = None"
   ]
  },
  {
   "cell_type": "markdown",
   "metadata": {
    "deletable": true,
    "editable": true
   },
   "source": [
    "## Conclusion"
   ]
  },
  {
   "cell_type": "markdown",
   "metadata": {
    "deletable": true,
    "editable": true
   },
   "source": [
    "10,200 games were played, with the neural net updating a total of 1,020 times; the AI wins by an average of 4 points."
   ]
  },
  {
   "cell_type": "markdown",
   "metadata": {},
   "source": [
    "<img src=\"demo.gif\" alt=\"Pong Demo\" style=\"\">"
   ]
  },
  {
   "cell_type": "markdown",
   "metadata": {
    "deletable": true,
    "editable": true
   },
   "source": [
    "## References"
   ]
  },
  {
   "cell_type": "markdown",
   "metadata": {
    "deletable": true,
    "editable": true
   },
   "source": [
    "* [RL Overview](https://karpathy.github.io/2016/05/31/rl/)\n",
    "* [Karpathy implementation](https://github.com/dhruvp/atari-pong/blob/master/me_pong.py)\n",
    "* [Karpathy implemenation derivative](https://medium.com/@dhruvp/how-to-write-a-neural-network-to-play-pong-from-scratch-956b57d4f6e0#.q7etxmxfc)\n",
    "* [RMSprop](http://sebastianruder.com/optimizing-gradient-descent/index.html#rmsprop)\n",
    "* [RMSprop vs SGD](http://www.erogol.com/comparison-sgd-vs-momentum-vs-rmsprop-vs-momentumrmsprop/)"
   ]
  }
 ],
 "metadata": {
  "anaconda-cloud": {},
  "kernelspec": {
   "display_name": "Python [conda root]",
   "language": "python",
   "name": "conda-root-py"
  },
  "language_info": {
   "codemirror_mode": {
    "name": "ipython",
    "version": 3
   },
   "file_extension": ".py",
   "mimetype": "text/x-python",
   "name": "python",
   "nbconvert_exporter": "python",
   "pygments_lexer": "ipython3",
   "version": "3.5.3"
  }
 },
 "nbformat": 4,
 "nbformat_minor": 2
}
